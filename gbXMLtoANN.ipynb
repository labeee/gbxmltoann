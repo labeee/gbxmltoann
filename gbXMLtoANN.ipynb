{
 "cells": [
  {
   "cell_type": "code",
   "execution_count": null,
   "metadata": {
    "colab": {},
    "colab_type": "code",
    "id": "KH8ugJq4nJ_B"
   },
   "outputs": [],
   "source": [
    "import xml.etree.ElementTree as ET\n",
    "import numpy as np\n",
    "import pandas as pd\n",
    "import subprocess"
   ]
  },
  {
   "cell_type": "markdown",
   "metadata": {
    "colab_type": "text",
    "id": "KTHJxal_nJ_H"
   },
   "source": [
    "Inicialmente é necessário criar uma série de funções para retirada dos dados necessários do gbXML para criação do input para o metamodelo. As transformações geométricas (principalmente retirada de áreas a partir de coordenadas de pontos) são realizadas durante essa etapa.\n",
    "A partir dos dados levantados e manipulados é criado o dataframe de entrada de dados para o metamodelo."
   ]
  },
  {
   "cell_type": "markdown",
   "metadata": {
    "colab_type": "text",
    "id": "D7KFZiXInJ_i"
   },
   "source": [
    "Função para calcular a área de qualquer polígono a partir de coordenadas xyz."
   ]
  },
  {
   "cell_type": "code",
   "execution_count": null,
   "metadata": {
    "colab": {},
    "colab_type": "code",
    "id": "O4CKTzvsnJ_j"
   },
   "outputs": [],
   "source": [
    "#vetor unitário normal da superfície definida pelos pontos a, b e c\n",
    "def unit_normal(a, b, c):\n",
    "    x = np.linalg.det([[1,a[1],a[2]],\n",
    "         [1,b[1],b[2]],\n",
    "         [1,c[1],c[2]]])\n",
    "    y = np.linalg.det([[a[0],1,a[2]],\n",
    "         [b[0],1,b[2]],\n",
    "         [c[0],1,c[2]]])\n",
    "    z = np.linalg.det([[a[0],a[1],1],\n",
    "         [b[0],b[1],1],\n",
    "         [c[0],c[1],1]])\n",
    "    magnitude = (x**2 + y**2 + z**2)**.5\n",
    "    return (x/magnitude, y/magnitude, z/magnitude)\n",
    "\n",
    "#área do polígono 'poly'\n",
    "def poly_area(poly):\n",
    "    if len(poly) < 3:\n",
    "        return 0\n",
    "    total = [0, 0, 0]\n",
    "    N = len(poly)\n",
    "    for i in range(N):\n",
    "        vi1 = poly[i]\n",
    "        vi2 = poly[(i+1) % N]\n",
    "        prod = np.cross(vi1, vi2)\n",
    "        total[0] += prod[0]\n",
    "        total[1] += prod[1]\n",
    "        total[2] += prod[2]\n",
    "    result = np.dot(total, unit_normal(poly[0], poly[1], poly[2]))\n",
    "    return abs(result/2)\n",
    "\n",
    "#https://stackoverflow.com/questions/12642256/python-find-area-of-polygon-from-xyz-coordinates"
   ]
  },
  {
   "cell_type": "markdown",
   "metadata": {
    "colab_type": "text",
    "id": "KvzyLCOWU2vi"
   },
   "source": [
    "Função para extrair as propriedades de superfícies do arquivo gbXML e devolvê-las em formato de lista (nome da superfície, nome do espaço que a superfície está vinculada, sua área e seu azimute)."
   ]
  },
  {
   "cell_type": "code",
   "execution_count": null,
   "metadata": {
    "colab": {},
    "colab_type": "code",
    "id": "nVJyvXXFnJ_m"
   },
   "outputs": [],
   "source": [
    "def surface_area(surfaces):\n",
    "    \n",
    "    surface_properties = []\n",
    "    \n",
    "    for i in range(len(surfaces)):\n",
    "        surface_name = surfaces[i].find('{http://www.gbxml.org/schema}Name').text\n",
    "        surface_space = surfaces[i].find('{http://www.gbxml.org/schema}AdjacentSpaceId').attrib['spaceIdRef']\n",
    "        surface_azimuth = float(surfaces[i].find('.//{http://www.gbxml.org/schema}Azimuth').text)\n",
    "        planargeometry = surfaces[i].find('.//{http://www.gbxml.org/schema}PlanarGeometry')\n",
    "        surface_points = planargeometry.findall('.//{http://www.gbxml.org/schema}CartesianPoint')\n",
    "\n",
    "        surface_coord = []\n",
    "\n",
    "        for j in range(len(surface_points)): \n",
    "            surface_points_xyz = []\n",
    "            for k in range(3):\n",
    "                surface_points_xyz.append(float(surface_points[j][k].text))\n",
    "            surface_coord.append(surface_points_xyz)\n",
    "            \n",
    "        surface_area = poly_area(surface_coord)\n",
    "        \n",
    "        surface_properties.append([surface_name, \n",
    "                                   surface_space, \n",
    "                                   surface_area,\n",
    "                                  surface_azimuth])\n",
    "        \n",
    "    return (surface_properties)"
   ]
  },
  {
   "cell_type": "markdown",
   "metadata": {
    "colab_type": "text",
    "id": "8o4rJYNVU2vm"
   },
   "source": [
    "Função para extrair as informações de aberturas (apenas janelas operáveis) do arquivo gbXML e devolvê-las em formato de lista (nome da superfície na qual a abertura está inserida, nome do espaço que a superfície pai está vinculada, área da abertura e azimute da superfície pai)."
   ]
  },
  {
   "cell_type": "code",
   "execution_count": null,
   "metadata": {
    "colab": {},
    "colab_type": "code",
    "id": "nt-tBSZYU2vn"
   },
   "outputs": [],
   "source": [
    "def opening_area(surfaces):\n",
    "    \n",
    "    surface_properties = []\n",
    "    \n",
    "    for i in range(len(surfaces)):\n",
    "        surface_name = surfaces[i].find('{http://www.gbxml.org/schema}Name').text\n",
    "        surface_space = surfaces[i].find('{http://www.gbxml.org/schema}AdjacentSpaceId').attrib['spaceIdRef']\n",
    "        surface_azimuth = float(surfaces[i].find('.//{http://www.gbxml.org/schema}Azimuth').text)\n",
    "        openings = surfaces[i].findall('.//{http://www.gbxml.org/schema}Opening[@openingType=\"OperableWindow\"]')\n",
    "        for j in range(len(openings)):\n",
    "            planargeometry = openings[j].find('.//{http://www.gbxml.org/schema}PlanarGeometry')\n",
    "            opening_points = planargeometry.findall('.//{http://www.gbxml.org/schema}CartesianPoint')\n",
    "\n",
    "            surface_coord = []\n",
    "\n",
    "            for k in range(len(opening_points)): \n",
    "                opening_points_xyz = []\n",
    "                for l in range(3):\n",
    "                    opening_points_xyz.append(float(opening_points[k][l].text))\n",
    "                surface_coord.append(opening_points_xyz)\n",
    "            \n",
    "            surface_area = poly_area(surface_coord)\n",
    "        \n",
    "            surface_properties.append([surface_name, \n",
    "                                   surface_space, \n",
    "                                   surface_area,\n",
    "                                      surface_azimuth])\n",
    "        \n",
    "    return (surface_properties)"
   ]
  },
  {
   "cell_type": "markdown",
   "metadata": {
    "colab_type": "text",
    "id": "mA_AIFxIU2vx"
   },
   "source": [
    "Função para realizar o somatório de áreas das superfícies por orientação baseado no dado de azimute e devolver a informação no formato de lista (norte, leste, sul, oeste)."
   ]
  },
  {
   "cell_type": "code",
   "execution_count": null,
   "metadata": {
    "colab": {},
    "colab_type": "code",
    "id": "sj-JFnIynJ_w"
   },
   "outputs": [],
   "source": [
    "def surface_area_orientation(surfaces):\n",
    "\n",
    "    surfaces_north = [0]\n",
    "    surfaces_east = [0]\n",
    "    surfaces_west = [0]\n",
    "    surfaces_south = [0]\n",
    "\n",
    "    for i in range(len(surfaces)):\n",
    "    \n",
    "        if surfaces[i][3]<=45 and surfaces[i][3]>=0 or surfaces[i][3]<=360 and surfaces[i][3]>315:\n",
    "            surfaces_north.append(surfaces[i][2])\n",
    "        elif surfaces[i][3]<=135 and surfaces[i][3]>45:\n",
    "            surfaces_east.append(surfaces[i][2])\n",
    "        elif surfaces[i][3]<=315 and surfaces[i][3]>225:\n",
    "            surfaces_west.append(surfaces[i][2])    \n",
    "        elif surfaces[i][3]<=225 and surfaces[i][3]>135:\n",
    "            surfaces_south.append(surfaces[i][2])   \n",
    "        \n",
    "    surfaces_north = np.array(surfaces_north).sum()\n",
    "    surfaces_east = np.array(surfaces_east).sum()\n",
    "    surfaces_west = np.array(surfaces_west).sum()\n",
    "    surfaces_south = np.array(surfaces_south).sum()\n",
    "    \n",
    "    return [surfaces_north, surfaces_east, surfaces_south, surfaces_west]"
   ]
  },
  {
   "cell_type": "markdown",
   "metadata": {
    "colab_type": "text",
    "id": "4g3ZdQO_U2v5"
   },
   "source": [
    "Funções para realizar o cálculo do WWR dividindo a área envidraçada pela área de parede, retornando o valor de zero para divisões por zero."
   ]
  },
  {
   "cell_type": "code",
   "execution_count": null,
   "metadata": {
    "colab": {},
    "colab_type": "code",
    "id": "OdHtPUmjU2v6"
   },
   "outputs": [],
   "source": [
    "def safe_div(x,y):\n",
    "    if y==0: return 0\n",
    "    return x/y\n",
    "\n",
    "def wwr_calculator(opening_area,extwall_area):\n",
    "    wwr=[]\n",
    "    for i in range(4):\n",
    "        wwr.append(safe_div(opening_area[i],extwall_area[i]))\n",
    "    return wwr    "
   ]
  },
  {
   "cell_type": "markdown",
   "metadata": {},
   "source": [
    "Função para definir a condição de exposição das superfícies horizontais (piso, cobertura, pilotis) realizando o somatório de superfícies em determinada condição no espaço e comparando com a área do espaço em questão. Se a área total da superfície em determinada condição superar 50% da área do espaço, essa condição será a determinante para a entrada do metamodelo."
   ]
  },
  {
   "cell_type": "code",
   "execution_count": null,
   "metadata": {
    "colab": {},
    "colab_type": "code",
    "id": "_dXY3SnjU2v-"
   },
   "outputs": [],
   "source": [
    "def exposition(surfaces_area,space_id,space_area):    \n",
    "    \n",
    "    surfaces_area_space = []\n",
    "    \n",
    "    for j in range(len(surfaces_area)):\n",
    "        if surfaces_area[j][1]==space_id:\n",
    "            surfaces_area_space.append(surfaces_area[j][2])\n",
    "\n",
    "    surfaces_area_space = sum(surfaces_area_space)\n",
    "    \n",
    "    if surfaces_area_space >= 0.5*space_area:\n",
    "        exp = 1\n",
    "    else:\n",
    "        exp = 0\n",
    "        \n",
    "    return exp"
   ]
  },
  {
   "cell_type": "markdown",
   "metadata": {},
   "source": [
    "Algoritmo para carregar o arquivo gbXML e começar a extração das informações indo até o nível dos espaços e pavimentos do modelo."
   ]
  },
  {
   "cell_type": "code",
   "execution_count": null,
   "metadata": {
    "colab": {},
    "colab_type": "code",
    "id": "WDs5dRJ5nJ_Y",
    "outputId": "4f306d95-3c20-439a-bcc4-bf7246457d6f"
   },
   "outputs": [],
   "source": [
    "tree = ET.parse('MCMV_Unifamiliar_Revit.xml')\n",
    "print('loading complete')\n",
    "root = tree.getroot()\n",
    "campus = root.find('{http://www.gbxml.org/schema}Campus')\n",
    "building = campus.find('{http://www.gbxml.org/schema}Building')\n",
    "spaces = building.findall('{http://www.gbxml.org/schema}Space[@conditionType=\"HeatedAndCooled\"]')\n",
    "buildingstorey = building.findall('{http://www.gbxml.org/schema}BuildingStorey')"
   ]
  },
  {
   "cell_type": "markdown",
   "metadata": {},
   "source": [
    "Retirada de todas as superfícies de interesse do arquivo XML (paredes externas, pisos em contato com o solo, pilotis, pisos intermediários, coberturas e aberturas)."
   ]
  },
  {
   "cell_type": "code",
   "execution_count": null,
   "metadata": {
    "colab": {},
    "colab_type": "code",
    "id": "EFnZQUoGnJ_e"
   },
   "outputs": [],
   "source": [
    "# Find all the external walls, openings, roof, slabs on grade and floor in the campus object\n",
    "surfaces = campus.findall(\"{http://www.gbxml.org/schema}Surface\")\n",
    "surfaces_extwall = campus.findall(\"{http://www.gbxml.org/schema}Surface[@surfaceType='ExteriorWall']\")\n",
    "surfaces_slab = campus.findall(\"{http://www.gbxml.org/schema}Surface[@surfaceType='SlabOnGrade']\")\n",
    "surfaces_roof = campus.findall(\"{http://www.gbxml.org/schema}Surface[@surfaceType='Roof']\")\n",
    "surfaces_floor = campus.findall(\"{http://www.gbxml.org/schema}Surface[@surfaceType='InteriorFloor']\")\n",
    "surfaces_raisedfloor = campus.findall(\"{http://www.gbxml.org/schema}Surface[@surfaceType='RaisedFloor']\")\n",
    "surfaces_openings = campus.findall('.//{http://www.gbxml.org/schema}Opening[@openingType=\"OperableWindow\"]')"
   ]
  },
  {
   "cell_type": "markdown",
   "metadata": {},
   "source": [
    "Realização do cálculo de área de cada superfície retornando uma lista contendo as informações de nome da superfície, nome do espaço que a superfície está vinculada, sua área e seu azimute."
   ]
  },
  {
   "cell_type": "code",
   "execution_count": null,
   "metadata": {
    "colab": {},
    "colab_type": "code",
    "id": "HaP9I82JU2vq"
   },
   "outputs": [],
   "source": [
    "extwall_area = surface_area(surfaces_extwall)\n",
    "opening_area = opening_area(surfaces_extwall)\n",
    "slabs_area = surface_area(surfaces_slab)\n",
    "interiorfloors_area = surface_area(surfaces_floor)\n",
    "roofs_area = surface_area(surfaces_roof)\n",
    "raisedfloors_area = surface_area(surfaces_raisedfloor)"
   ]
  },
  {
   "cell_type": "markdown",
   "metadata": {
    "colab_type": "text",
    "id": "-5vmhguCU2v1"
   },
   "source": [
    "Criação do dataframe para organização dos dados de entrada necessários ao metamodelo."
   ]
  },
  {
   "cell_type": "code",
   "execution_count": null,
   "metadata": {
    "colab": {},
    "colab_type": "code",
    "id": "ToBnPC06U2v2"
   },
   "outputs": [],
   "source": [
    "df = pd.DataFrame(np.nan, index=range(len(spaces)), \n",
    "                  columns=['space_storey_name','space_storey_id','space_name','space_id','zona',\n",
    "                           'wwr_norte','wwr_leste','wwr_sul','wwr_oeste',\n",
    "                           'area_par_exp_norte','area_par_exp_leste',\n",
    "                           'area_par_exp_sul','area_par_exp_oeste',\n",
    "                           'area_zona','ct_par_ext','u_par_ext','ct_cob','u_cob',\n",
    "                           'u_vid','fs_vid','tipo_pav','pedireito','abspar','abscob',\n",
    "                           'tamanhoprojecao','hpav','veneziana','hjan','openfac',\n",
    "                           'pilotis','exp_pis','exp_cob',\n",
    "                           'TMA','dpT','AMA','dpA'])"
   ]
  },
  {
   "cell_type": "markdown",
   "metadata": {},
   "source": [
    "Algoritmo para buscar as informações de 'id', nome e valor de altura do pavimento para cada um dos níveis encontrados no arquivo gbXML."
   ]
  },
  {
   "cell_type": "code",
   "execution_count": null,
   "metadata": {
    "colab": {},
    "colab_type": "code",
    "id": "dCFAR5vgU2wC"
   },
   "outputs": [],
   "source": [
    "building_storey = []\n",
    "for i in range(len(buildingstorey)):\n",
    "    building_storey_id = buildingstorey[i].attrib['id']\n",
    "    building_storey_name = buildingstorey[i].find('{http://www.gbxml.org/schema}Name').text\n",
    "    building_storey_level = float(buildingstorey[i].find('{http://www.gbxml.org/schema}Level').text)\n",
    "    \n",
    "    building_storey.append([building_storey_id,building_storey_name,building_storey_level])"
   ]
  },
  {
   "cell_type": "markdown",
   "metadata": {
    "colab_type": "text",
    "id": "ti236rwuU2wF"
   },
   "source": [
    "Algoritmo para organização e preenchimento do dataframe por zona térmica encontrada no metamodelo, realizando primeiramente a divisão das superfícies por espaço adjacente e depois por orientação em relação ao norte."
   ]
  },
  {
   "cell_type": "code",
   "execution_count": null,
   "metadata": {
    "colab": {},
    "colab_type": "code",
    "id": "UGpRzOe-U2wG",
    "outputId": "f8e62776-dbb6-4890-edb2-71a7f0a49d1b"
   },
   "outputs": [],
   "source": [
    "for i in range(len(spaces)):\n",
    "    space_id = spaces[i].attrib['id']    \n",
    "    space_name = spaces[i].find('{http://www.gbxml.org/schema}Name').text\n",
    "    space_storey_id = spaces[i].attrib['buildingStoreyIdRef']\n",
    "    \n",
    "    for j in range(len(building_storey)):\n",
    "        if building_storey[j][0]==space_storey_id:\n",
    "            space_storey_name = building_storey[j][1]\n",
    "            space_storey_level = building_storey[j][2]\n",
    "    \n",
    "    space_area = float(spaces[i].find('{http://www.gbxml.org/schema}Area').text)\n",
    "    space_volume = float(spaces[i].find('{http://www.gbxml.org/schema}Volume').text)\n",
    "    space_height = space_volume/space_area\n",
    "    \n",
    "    extwall_area_space = []\n",
    "    \n",
    "    for j in range(len(extwall_area)):\n",
    "        if extwall_area[j][1]==space_id:\n",
    "            extwall_area_space.append(extwall_area[j])\n",
    "    \n",
    "    opening_area_space = []\n",
    "    \n",
    "    for j in range(len(opening_area)):\n",
    "        if opening_area[j][1]==space_id:\n",
    "            opening_area_space.append(opening_area[j])\n",
    "    \n",
    "    extwall_area_orientation = surface_area_orientation(extwall_area_space)\n",
    "    opening_area_orientation = surface_area_orientation(opening_area_space)\n",
    "\n",
    "    wwr = wwr_calculator(opening_area_orientation,extwall_area_orientation)\n",
    "    \n",
    "    exp_pis = exposition(slabs_area,space_id,space_area)\n",
    "    exp_cob = exposition(roofs_area,space_id,space_area)     \n",
    "    pilotis = exposition(raisedfloors_area,space_id,space_area)\n",
    "    \n",
    "    if \"sala\" in space_name.lower():\n",
    "        zona = 0\n",
    "    elif \"quarto\" in space_name.lower():\n",
    "        zona = 1\n",
    "    else:\n",
    "        zona = 2\n",
    "    \n",
    "    ct_par_ext = 2 #kJ/m².K\n",
    "    u_par_ext = 3.65 #W/m².K\n",
    "    abspar = 0.6\n",
    "\n",
    "    ct_cob = 1 #kJ/m².K\n",
    "    u_cob = 2.02 #W/m².K\n",
    "    abscob = 0.6\n",
    "\n",
    "    u_vid = 5.7  #W/m².K\n",
    "    fs_vid = 0.87\n",
    "\n",
    "    openfac = 0.5\n",
    "    hjan = 1/space_height\n",
    "    veneziana = 0\n",
    "    tamanhoprojecao = 0\n",
    "\n",
    "    tipo_pav = 0\n",
    "    \n",
    "    TMA = 21.47\n",
    "    dpT = 3.01\n",
    "    AMA = 5.09\n",
    "    dpA = 1.07\n",
    "    \n",
    "    df.iloc[i] = [space_storey_name,space_storey_id,space_name,space_id,zona,\n",
    "                  wwr[0],wwr[1],wwr[2],wwr[3],\n",
    "                  extwall_area_orientation[0],extwall_area_orientation[1],\n",
    "                  extwall_area_orientation[2],extwall_area_orientation[3],\n",
    "                  space_area,ct_par_ext,u_par_ext,ct_cob,u_cob,u_vid,fs_vid,tipo_pav,\n",
    "                  space_height,abspar,abscob,tamanhoprojecao,space_storey_level,\n",
    "                  veneziana,hjan,openfac,pilotis,exp_pis,exp_cob,\n",
    "                  TMA,dpT,AMA,dpA]\n",
    "df"
   ]
  },
  {
   "cell_type": "markdown",
   "metadata": {},
   "source": [
    "Transformação do dataframe em arquivo 'csv' para servir de input para a função em R acionar a rede neural."
   ]
  },
  {
   "cell_type": "code",
   "execution_count": null,
   "metadata": {
    "colab": {},
    "colab_type": "code",
    "id": "MhMl01e0U2wL"
   },
   "outputs": [],
   "source": [
    "df.to_csv('inputs.csv',encoding='utf-8-sig')"
   ]
  },
  {
   "cell_type": "markdown",
   "metadata": {},
   "source": [
    "Código que aciona a função 'prediction.R' e espera a função ser realizada para seguir com o código adiante."
   ]
  },
  {
   "cell_type": "code",
   "execution_count": null,
   "metadata": {
    "colab": {},
    "colab_type": "code",
    "id": "XMex1PUgU2wO",
    "outputId": "67bfdb81-e336-4ba6-f1b5-e154871aec29"
   },
   "outputs": [],
   "source": [
    "subprocess.check_call(['Rscript', 'prediction.R'], shell=False)"
   ]
  },
  {
   "cell_type": "markdown",
   "metadata": {},
   "source": [
    "Função para realizar a leitura do arquivo 'csv' com os resultados de carga térmica de aquecimento e resfriamento por zona térmica considerada previstos pelo metamodelo."
   ]
  },
  {
   "cell_type": "code",
   "execution_count": null,
   "metadata": {
    "colab": {},
    "colab_type": "code",
    "id": "E2Cqx095U2wV",
    "outputId": "7ea9916a-f333-4abc-f779-037a0e4f93a9"
   },
   "outputs": [],
   "source": [
    "dfcompleto = pd.read_csv('resultados.csv')\n",
    "dfcompleto"
   ]
  },
  {
   "cell_type": "markdown",
   "metadata": {},
   "source": [
    "Montagem de um dataframe intermediário para realizar o cálculo da carga térmica total da edificação em cada um dos casos a ser realizado."
   ]
  },
  {
   "cell_type": "code",
   "execution_count": null,
   "metadata": {
    "colab": {},
    "colab_type": "code",
    "id": "gdpk7jWJU2we"
   },
   "outputs": [],
   "source": [
    "dfedificio = pd.DataFrame(np.nan, index=range(1), \n",
    "                  columns=['ct_par_ext','u_par_ext','ct_cob','u_cob',\n",
    "                           'u_vid','fs_vid','tipo_pav','abspar','abscob',\n",
    "                           'tamanhoprojecao','veneziana','hjan','openfac',\n",
    "                           'heating','cooling'])"
   ]
  },
  {
   "cell_type": "markdown",
   "metadata": {},
   "source": [
    "Função para criação do dataframe final com as características definidoras de cada caso e seu resultado de carga térmica de aquecimento e resfriamento total."
   ]
  },
  {
   "cell_type": "code",
   "execution_count": null,
   "metadata": {
    "colab": {},
    "colab_type": "code",
    "id": "vSxi19Y1U2wi",
    "outputId": "e09b380a-8d5b-49b3-97b3-a96b2368a138"
   },
   "outputs": [],
   "source": [
    "df = pd.DataFrame({})\n",
    "for i in range(1):\n",
    "    dfedificio=(dfcompleto.loc[[i],['ct_par_ext','u_par_ext','ct_cob','u_cob',\n",
    "                             'u_vid','fs_vid','tipo_pav','abspar','abscob',\n",
    "                             'tamanhoprojecao','veneziana','hjan','openfac']])\n",
    "    \n",
    "    dfresultado=(dfcompleto.loc[0:(len(spaces)),['heating','cooling']])   \n",
    "    dfresultadototal=pd.DataFrame({'total heating': [dfresultado['heating'].sum()],'total cooling':[dfresultado['cooling'].sum()]})\n",
    "    \n",
    "    dftemporario = dfedificio.join(dfresultadototal)\n",
    "    #join para juntar as colunas de resultado de carga térmica, depois append para adicionar a linha de cada caso\n",
    "    df = pd.concat([df,dftemporario])\n",
    "df"
   ]
  }
 ],
 "metadata": {
  "colab": {
   "name": "gbXMLtoANNeTree-20190523.ipynb",
   "provenance": [],
   "version": "0.3.2"
  },
  "kernelspec": {
   "display_name": "Python 3",
   "language": "python",
   "name": "python3"
  },
  "language_info": {
   "codemirror_mode": {
    "name": "ipython",
    "version": 3
   },
   "file_extension": ".py",
   "mimetype": "text/x-python",
   "name": "python",
   "nbconvert_exporter": "python",
   "pygments_lexer": "ipython3",
   "version": "3.7.3"
  }
 },
 "nbformat": 4,
 "nbformat_minor": 1
}
